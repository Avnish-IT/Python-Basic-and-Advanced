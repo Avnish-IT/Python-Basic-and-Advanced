{
  "nbformat": 4,
  "nbformat_minor": 0,
  "metadata": {
    "colab": {
      "name": "Python_2.ipynb",
      "provenance": [],
      "collapsed_sections": []
    },
    "kernelspec": {
      "name": "python3",
      "display_name": "Python 3"
    },
    "language_info": {
      "name": "python"
    }
  },
  "cells": [
    {
      "cell_type": "markdown",
      "metadata": {
        "id": "u8XyD_P4XhJz"
      },
      "source": [
        "1. Take a string as an input and check whether the input is present in the list and also print it's no.of occurances.\n",
        "\n",
        "**Example:** a = ['1,2,3,4,5,6,'q',1,'e',2,2,3,'a',2,2]<br>\n",
        "         Input = 2 <br>\n",
        "         output : 2 is present in the list and no.of occurances is 5"
      ]
    },
    {
      "cell_type": "code",
      "metadata": {
        "id": "rkx2tIS1poja",
        "colab": {
          "base_uri": "https://localhost:8080/"
        },
        "outputId": "6c06bc19-431a-483b-b3e1-6429526f784e"
      },
      "source": [
        "a = [\"a\", \"b\", \"b\", \"c\", \"a\", \"v\", \"b\"]\n",
        "for i in a:\n",
        "  if (i == \"b\"):\n",
        "    print(\"b exists\", \"and\", \"No of occurance:\", a.count(\"b\"))"
      ],
      "execution_count": null,
      "outputs": [
        {
          "output_type": "stream",
          "text": [
            "b exists and No of occurance: 3\n",
            "b exists and No of occurance: 3\n",
            "b exists and No of occurance: 3\n"
          ],
          "name": "stdout"
        }
      ]
    },
    {
      "cell_type": "markdown",
      "metadata": {
        "id": "Y8bYuCYWZuAD"
      },
      "source": [
        "2. Print the list in reverse. Take the input from the user as <br> i. No.of elements to be given in the list.<br> ii. Enter the elements.<br> output: original list: [' ', ' ', ' ']<br> Reversed list: [' ', ' ', ' ']<br>\n",
        "**Example:** No.of elements : 3<br> Enter the elements: 'a','b','c'<br> output: original list: ['a','b','c']<br> Reversed list: ['c','b','a']"
      ]
    },
    {
      "cell_type": "code",
      "metadata": {
        "id": "XWDwHwLFppS_",
        "colab": {
          "base_uri": "https://localhost:8080/"
        },
        "outputId": "aa865669-7b91-4982-cd35-2db5f439ae40"
      },
      "source": [
        "a = int(input(\"Enter the no of elements: \"))\n",
        "b = input(\"Enter the elements: \")\n",
        "\n",
        "#print(len(b))\n",
        "\n",
        "\n",
        "list = b.split()\n",
        "print(list)\n",
        "\n",
        "a = []\n",
        "for rev in list:\n",
        "  a.insert(0, rev)\n",
        "print(a)"
      ],
      "execution_count": null,
      "outputs": [
        {
          "output_type": "stream",
          "text": [
            "Enter the no of elements: 4\n",
            "Enter the elements: 1 2 3 4 \n",
            "['1', '2', '3', '4']\n",
            "['4', '3', '2', '1']\n"
          ],
          "name": "stdout"
        }
      ]
    },
    {
      "cell_type": "markdown",
      "metadata": {
        "id": "xfn94Khhb8jN"
      },
      "source": [
        "3. Write a Python program to find the second largest number in given list.<br>\n",
        "Examples: <br>\n",
        "\n",
        "Input: list1 = [10, 20, 4]<br>\n",
        "Output: 10<br>\n",
        "\n",
        "Input: list2 = [70, 11, 20, 4, 100]<br>\n",
        "Output: 70<br>"
      ]
    },
    {
      "cell_type": "code",
      "metadata": {
        "id": "wZyVkrjSpp9d",
        "colab": {
          "base_uri": "https://localhost:8080/"
        },
        "outputId": "9644ed5c-523b-4048-9aec-316c43484ecb"
      },
      "source": [
        "a = [45, 20, 65, 71, 13, 16, 45, 56, 23, 49, 91, 92]\n",
        "a.sort()\n",
        "print(a)\n",
        "print(a[-2])"
      ],
      "execution_count": null,
      "outputs": [
        {
          "output_type": "stream",
          "text": [
            "[13, 16, 20, 23, 45, 45, 49, 56, 65, 71, 91, 92]\n",
            "91\n"
          ],
          "name": "stdout"
        }
      ]
    },
    {
      "cell_type": "markdown",
      "metadata": {
        "id": "nIy5WklycyZN"
      },
      "source": [
        "4. Write a Python program to print all even numbers in given list.<br>\n",
        "Example:\n",
        "\n",
        "Input: list1 = [2, 7, 5, 64, 14]<br>\n",
        "Output: [2, 64, 14]\n",
        "\n",
        "Input: list2 = [12, 14, 95, 3]<br>\n",
        "Output: [12, 14]"
      ]
    },
    {
      "cell_type": "code",
      "metadata": {
        "id": "pCH1HVvjpqha",
        "colab": {
          "base_uri": "https://localhost:8080/"
        },
        "outputId": "00d2e0df-c0ff-48a8-d118-cf6fcbe61352"
      },
      "source": [
        "a = [82, 56, 35, 71, 46, 39]\n",
        "a1 = []\n",
        "for num in a:\n",
        "  if num % 2 == 0:\n",
        "    #print(num)\n",
        "    a1.append(num)\n",
        "print(a1)"
      ],
      "execution_count": null,
      "outputs": [
        {
          "output_type": "stream",
          "text": [
            "[82, 56, 46]\n"
          ],
          "name": "stdout"
        }
      ]
    },
    {
      "cell_type": "markdown",
      "metadata": {
        "id": "q5C_131JdTHR"
      },
      "source": [
        "5. Write a Python program to print all odd numbers in given list.<br>\n",
        "Example:\n",
        "\n",
        "Input: list1 = [2, 7, 5, 64, 14]<br>\n",
        "Output: [7, 5]\n",
        "\n",
        "Input: list2 = [12, 14, 95, 3, 73]<br>\n",
        "Output: [95, 3, 73]"
      ]
    },
    {
      "cell_type": "code",
      "metadata": {
        "id": "1Ft0ddL0prIb",
        "colab": {
          "base_uri": "https://localhost:8080/"
        },
        "outputId": "36b3f093-77de-436f-b4b3-6b278bfb1985"
      },
      "source": [
        "a = [82, 56, 35, 71, 46, 39]\n",
        "a1 = []\n",
        "for num in a:\n",
        "  if num % 2 != 0:\n",
        "    #print(num)\n",
        "    a1.append(num)\n",
        "print(a1)"
      ],
      "execution_count": null,
      "outputs": [
        {
          "output_type": "stream",
          "text": [
            "[35, 71, 39]\n"
          ],
          "name": "stdout"
        }
      ]
    }
  ]
}