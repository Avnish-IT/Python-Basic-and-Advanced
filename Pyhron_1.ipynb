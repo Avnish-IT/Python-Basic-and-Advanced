{
  "nbformat": 4,
  "nbformat_minor": 0,
  "metadata": {
    "colab": {
      "name": "assignment4.ipynb",
      "provenance": [],
      "collapsed_sections": []
    },
    "kernelspec": {
      "name": "python3",
      "display_name": "Python 3"
    },
    "language_info": {
      "name": "python"
    }
  },
  "cells": [
    {
      "cell_type": "code",
      "metadata": {
        "id": "l6D5R9UctcA6"
      },
      "source": [
        ""
      ],
      "execution_count": null,
      "outputs": []
    },
    {
      "cell_type": "markdown",
      "metadata": {
        "id": "tWjRQp5O0pww"
      },
      "source": [
        "# **Question 1st**\n",
        "i) <br>\n",
        "Create a math function that will take a list as arguments and perform the following :<br>\n",
        "Return the sum of the list <br>\n",
        "Sum of square of all elements present in the list .<br>\n",
        "**Example:**\n",
        "calculate([1,2,3,4,5])<br>\n",
        "output: sum of all list is 15 \n",
        "sum of square of list elemnts is 55<br>\n",
        "\n",
        "\n",
        "\n",
        "\n"
      ]
    },
    {
      "cell_type": "code",
      "metadata": {
        "colab": {
          "base_uri": "https://localhost:8080/"
        },
        "id": "iwvQ0zT9ejJa",
        "outputId": "95589adc-fb6a-418f-cd60-f974eae472c0"
      },
      "source": [
        "def math(a):\n",
        "  sum=0\n",
        "  square_sum=0\n",
        "  for i in a:\n",
        "    sum+=i\n",
        "    square_sum+=i*i\n",
        "  #print('sum of all list is {}, sum of square of list elemnts is {}'.format(sum,square_sum))\n",
        "  return 'sum of all list is {}, sum of square of list elemnts is {}'.format(sum,square_sum)\n",
        "\n",
        "output=math([2,3,4,5,6,7])\n",
        "print(output)\n",
        "print('hello')"
      ],
      "execution_count": null,
      "outputs": [
        {
          "output_type": "stream",
          "text": [
            "sum of all list is 27, sum of square of list elemnts is 139\n",
            "hello\n"
          ],
          "name": "stdout"
        }
      ]
    },
    {
      "cell_type": "markdown",
      "metadata": {
        "id": "b9eXTrGJ-HcT"
      },
      "source": [
        "# **Question 2nd**\n",
        "**a)**<br>\n",
        "**input=['a','a','b','c','d','a','a','i','g','g','h']**<br>\n",
        "**output={'a':4,'b':1,'c':1,'g':2,'h':1}**<br>\n",
        "consider input as a list and return a dictionary of occurances of each and every element present in the list.\n",
        "\n",
        "b)<br>\n",
        "Write the above program by defining a count function, such that when function is called, it should return a dictionary with occurances of each and every element.<br>\n",
        "\n",
        "count(['a','a','b','c','d','a','a','i','g','g','h'])<br>\n",
        "output:{'a':4,'b':1,'c':1,'g':2,'h':1}\n",
        "\n"
      ]
    },
    {
      "cell_type": "code",
      "metadata": {
        "colab": {
          "base_uri": "https://localhost:8080/"
        },
        "id": "cIGu4PNvlknK",
        "outputId": "0519e63f-77cc-4bc0-b869-1aef46735da0"
      },
      "source": [
        "def count(a):\n",
        "  output={}\n",
        "  for i in input:\n",
        "    if i in output:\n",
        "      output[i]+=1\n",
        "    else:\n",
        "      output[i]=1\n",
        "  return output\n",
        "\n",
        "count(['a','a','b','c','d','a','a','i','g','g','h'])\n",
        "     \n"
      ],
      "execution_count": null,
      "outputs": [
        {
          "output_type": "execute_result",
          "data": {
            "text/plain": [
              "{'a': 4, 'b': 1, 'c': 1, 'd': 1, 'g': 2, 'h': 1, 'i': 1}"
            ]
          },
          "metadata": {
            "tags": []
          },
          "execution_count": 25
        }
      ]
    },
    {
      "cell_type": "markdown",
      "metadata": {
        "id": "joPcyrulC1ox"
      },
      "source": [
        "# **Question 3:<br>**\n",
        "\n",
        "**i)**\n",
        "create a even function that will take number as an argument and returns a list of all the even numbers starting with 2 to the number given as an input.(For clarity check the example)<br>\n",
        "**Example:**even(10)<br>\n",
        "output:[2,4,6,8,10]<br>\n",
        "\n",
        "**ii)**\n",
        "In second part you have to return the total sum of even numbers that you received as an output from the above question.\n",
        "\n",
        "Example:even(10)<br>\n",
        "output: your output is 220\n"
      ]
    },
    {
      "cell_type": "code",
      "metadata": {
        "id": "17nJeH51-OKm",
        "colab": {
          "base_uri": "https://localhost:8080/"
        },
        "outputId": "64dae2c6-41fc-40e3-d402-75a76e672547"
      },
      "source": [
        "def even(a):\n",
        "  lst=[]\n",
        "  for i in range(2,a+1):\n",
        "    if i%2==0:\n",
        "      lst.append(i)\n",
        "  return lst\n",
        "even(10)\n"
      ],
      "execution_count": null,
      "outputs": [
        {
          "output_type": "execute_result",
          "data": {
            "text/plain": [
              "[2, 4, 6, 8, 10]"
            ]
          },
          "metadata": {
            "tags": []
          },
          "execution_count": 27
        }
      ]
    }
  ]
}