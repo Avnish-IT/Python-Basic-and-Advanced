{
  "nbformat": 4,
  "nbformat_minor": 0,
  "metadata": {
    "colab": {
      "name": "Assignment_5.ipynb",
      "provenance": [],
      "collapsed_sections": []
    },
    "kernelspec": {
      "name": "python3",
      "display_name": "Python 3"
    },
    "language_info": {
      "name": "python"
    }
  },
  "cells": [
    {
      "cell_type": "markdown",
      "metadata": {
        "id": "bn9ovq--JdNj"
      },
      "source": [
        "\n",
        "Define a  calculator function which takes 3 arguments from the user ,first two  will be numbers and third will be operations like (+,-,*,/).If user forgets to give third argument then by default operation it performs addition.\n",
        "\n",
        "calculator(3,4,+)\n",
        "output: sum of 3 and 4 is :7\n",
        "\n",
        "calculator(4,2)\n",
        "output: sum of 4 and 2 is :6"
      ]
    },
    {
      "cell_type": "code",
      "metadata": {
        "id": "jAT2k578Mo1X",
        "colab": {
          "base_uri": "https://localhost:8080/"
        },
        "outputId": "1096df42-76eb-47dd-b3d6-f41b44ac8343"
      },
      "source": [
        "num1=int(input(\"enter first valid input  \"))\n",
        "num2=int(input(\"enter second valid input \"))\n",
        "operation=input(\"enter the operation to perform from +,-,,/: \")\n",
        "lst=['+','-','*','/']\n",
        "\n",
        "def calculator(in1,in2,in3='+'):\n",
        "  if in3=='+':\n",
        "    return in1+in2\n",
        "  elif in3=='-':\n",
        "    return in1-in2\n",
        "  elif in3=='*':\n",
        "    return in1*in2\n",
        "  elif in3=='/':\n",
        "    return in1/in2\n",
        "  elif in3 not in lst:\n",
        "    print(\"input 3 is given operator is not valid .so default operation '+' is performing:\",' ')\n",
        "    return in1+in2\n",
        "\n",
        "\n",
        "#print(calculator(num1,num2,operation))\n",
        "calculator(num1,num2)"
      ],
      "execution_count": null,
      "outputs": [
        {
          "output_type": "stream",
          "text": [
            "enter first valid input  3\n",
            "enter second valid input 5\n",
            "enter the operation to perform from +,-,,/: +\n"
          ],
          "name": "stdout"
        },
        {
          "output_type": "execute_result",
          "data": {
            "text/plain": [
              "8"
            ]
          },
          "metadata": {
            "tags": []
          },
          "execution_count": 1
        }
      ]
    },
    {
      "cell_type": "markdown",
      "metadata": {
        "id": "yhOn9YTiMrAK"
      },
      "source": [
        "\n",
        "input:[23,34,23,36,48,56,56,100,100,100]<br>\n",
        "Write a function that will take a list as an input and returns second largest element from the list.\n",
        "\n",
        "maximum(input)<br>\n",
        "output :your second max element of list is 56.\n"
      ]
    },
    {
      "cell_type": "code",
      "metadata": {
        "colab": {
          "base_uri": "https://localhost:8080/"
        },
        "id": "_yEtTiVLrmz4",
        "outputId": "7f664c67-acb2-4bea-8e8e-a0ea8ef13e59"
      },
      "source": [
        "def maximum(a):\n",
        "  b=[]\n",
        "  for i in a:\n",
        "    if i in b:\n",
        "      continue\n",
        "    else:\n",
        "      b.append(i)\n",
        "  b.sort()\n",
        "  return b[-2]\n",
        "maximum([23,34,23,36,48,56,56,100,134,500,499,100,100,100])"
      ],
      "execution_count": null,
      "outputs": [
        {
          "output_type": "execute_result",
          "data": {
            "text/plain": [
              "499"
            ]
          },
          "metadata": {
            "tags": []
          },
          "execution_count": 12
        }
      ]
    },
    {
      "cell_type": "code",
      "metadata": {
        "id": "wmXncfdyResr"
      },
      "source": [
        ""
      ],
      "execution_count": null,
      "outputs": []
    },
    {
      "cell_type": "markdown",
      "metadata": {
        "id": "CTnBNN9rRlO2"
      },
      "source": [
        "\n",
        "create a function that will take string as an input and returns a list of last character of each and every word present in the string.\n",
        "\n",
        "\n",
        "last(\"My name is anonomyus and i love python')\n",
        "\n",
        "output:[ y,e,s,s,d,i,e,n]\n"
      ]
    },
    {
      "cell_type": "code",
      "metadata": {
        "id": "fNE_fDuCK_lo",
        "colab": {
          "base_uri": "https://localhost:8080/"
        },
        "outputId": "e38d50b9-7c51-4058-cf70-734b6dbfa2ce"
      },
      "source": [
        "a='abcde'\n",
        "list(a)"
      ],
      "execution_count": null,
      "outputs": [
        {
          "output_type": "execute_result",
          "data": {
            "text/plain": [
              "['a', 'b', 'c', 'd', 'e']"
            ]
          },
          "metadata": {
            "tags": []
          },
          "execution_count": 15
        }
      ]
    }
  ]
}